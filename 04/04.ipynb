{
 "cells": [
  {
   "attachments": {},
   "cell_type": "markdown",
   "metadata": {},
   "source": [
    "# 1"
   ]
  },
  {
   "cell_type": "code",
   "execution_count": 28,
   "metadata": {},
   "outputs": [
    {
     "name": "stdout",
     "output_type": "stream",
     "text": [
      "coefficient(slope):  1.2063661971830983\n",
      "intercept:  2.4634929577464817\n",
      "y = 1.2063661971830983x + 2.4634929577464817\n"
     ]
    },
    {
     "data": {
      "image/png": "[encoded data removed]",
      "text/plain": [
       "<Figure size 432x288 with 1 Axes>"
      ]
     },
     "metadata": {
      "needs_background": "light"
     },
     "output_type": "display_data"
    },
    {
     "data": {
      "image/png": "[encoded data removed]",
      "text/plain": [
       "<Figure size 432x288 with 1 Axes>"
      ]
     },
     "metadata": {
      "needs_background": "light"
     },
     "output_type": "display_data"
    }
   ],
   "source": [
    "import pandas as pd\n",
    "import matplotlib.pyplot as plt\n",
    "from sklearn.linear_model import LinearRegression\n",
    "\n",
    "df = pd.DataFrame({'a':[5,6,7,10,12,15,18,20], 'b':[7.4, 9.3, 10.6, 15.4, 18.1, 22.2, 24.1, 24.8]})\n",
    "scatter = df.plot.scatter(x='a', y='b', c='DarkBlue')\n",
    "\n",
    "model = LinearRegression()\n",
    "model.fit(df[['a']], df['b'])\n",
    "y = model.predict(df[['a']])\n",
    "\n",
    "print(\"coefficient(slope): \", model.coef_[0]) # slope\n",
    "print(\"intercept: \", model.intercept_) # intercept\n",
    "print(\"y = {}x + {}\".format(model.coef_[0], model.intercept_))\n",
    "\n",
    "# plot df and regression line\n",
    "df.plot.scatter(x='a', y='b', c='DarkBlue')\n",
    "plt.plot(df['a'], y, color='red')\n",
    "plt.show()"
   ]
  },
  {
   "attachments": {},
   "cell_type": "markdown",
   "metadata": {},
   "source": [
    "# 2"
   ]
  },
  {
   "cell_type": "code",
   "execution_count": 29,
   "metadata": {},
   "outputs": [
    {
     "name": "stdout",
     "output_type": "stream",
     "text": [
      "coefficient(slope):  -2.376\n",
      "intercept:  206.74\n",
      "y = -2.376x + 206.74\n",
      "[147.34]\n"
     ]
    },
    {
     "name": "stderr",
     "output_type": "stream",
     "text": [
      "/opt/anaconda3/envs/ML/lib/python3.9/site-packages/sklearn/base.py:420: UserWarning: X does not have valid feature names, but LinearRegression was fitted with feature names\n",
      "  warnings.warn(\n"
     ]
    }
   ],
   "source": [
    "df = pd.DataFrame({'ordered': [88, 112, 123, 136, 158, 172], 'price': [50, 40, 35, 30, 20, 15]})\n",
    "\n",
    "model = LinearRegression()\n",
    "model.fit(df[['price']], df['ordered'])\n",
    "y = model.predict(df[['price']])\n",
    "\n",
    "print(\"coefficient(slope): \", model.coef_[0]) # slope\n",
    "print(\"intercept: \", model.intercept_) # intercept\n",
    "print(\"y = {}x + {}\".format(model.coef_[0], model.intercept_))\n",
    "\n",
    "# 25 for price\n",
    "print(model.predict([[25]]))"
   ]
  },
  {
   "attachments": {},
   "cell_type": "markdown",
   "metadata": {},
   "source": [
    "# 3"
   ]
  },
  {
   "cell_type": "code",
   "execution_count": 30,
   "metadata": {},
   "outputs": [
    {
     "name": "stdout",
     "output_type": "stream",
     "text": [
      "coefficient(slope):  -0.16999999999999998\n",
      "intercept:  32.542857142857144\n",
      "y = -0.16999999999999998x + 32.542857142857144\n"
     ]
    }
   ],
   "source": [
    "df = pd.DataFrame({'speed':[45,50,55,60,65,70,75],'mpg':[24.2, 25.0, 23.3, 22.0, 21.5, 20.6, 19.8]})\n",
    "\n",
    "model = LinearRegression()\n",
    "model.fit(df[['speed']], df['mpg'])\n",
    "y = model.predict(df[['speed']])\n",
    "\n",
    "print(\"coefficient(slope): \", model.coef_[0]) # slope\n",
    "print(\"intercept: \", model.intercept_) # intercept\n",
    "print(\"y = {}x + {}\".format(model.coef_[0], model.intercept_))"
   ]
  },
  {
   "cell_type": "code",
   "execution_count": null,
   "metadata": {},
   "outputs": [],
   "source": []
  }
 ],
 "metadata": {
  "kernelspec": {
   "display_name": "ML",
   "language": "python",
   "name": "python3"
  },
  "language_info": {
   "codemirror_mode": {
    "name": "ipython",
    "version": 3
   },
   "file_extension": ".py",
   "mimetype": "text/x-python",
   "name": "python",
   "nbconvert_exporter": "python",
   "pygments_lexer": "ipython3",
   "version": "3.9.16"
  },
  "orig_nbformat": 4
 },
 "nbformat": 4,
 "nbformat_minor": 2
}
