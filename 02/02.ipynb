{
 "cells": [
  {
   "attachments": {},
   "cell_type": "markdown",
   "metadata": {},
   "source": [
    "## Q1"
   ]
  },
  {
   "cell_type": "code",
   "execution_count": 27,
   "metadata": {},
   "outputs": [
    {
     "name": "stdout",
     "output_type": "stream",
     "text": [
      "sample mean of the accident rate:  3.1818181818181817\n",
      "sample median of the accident rate:  3\n",
      "sample standard deviation of the accident rate:  2.3224856068314814\n"
     ]
    }
   ],
   "source": [
    "import pandas as pd\n",
    "import numpy as np\n",
    "\n",
    "df = pd.DataFrame({\n",
    "    'Year' : range(1985, 2007),\n",
    "    'Accident' : [4,2,4,3,11,6,4,4,1,4,2,3,3,1,2,2,6,0,2,1,3,2]\n",
    "})\n",
    "\n",
    "mean = df.Accident.sum()/df.shape[0]\n",
    "median = df.Accident[df.shape[0]//2]\n",
    "std = np.sqrt(((df.Accident-mean)**2).sum()/(df.shape[0]-1)) # df.shape[0]-1 is the degree of freedom, unbiased estimator\n",
    "\n",
    "print(\"sample mean of the accident rate: \", mean)\n",
    "print(\"sample median of the accident rate: \", median)\n",
    "print(\"sample standard deviation of the accident rate: \", std)"
   ]
  },
  {
   "cell_type": "code",
   "execution_count": null,
   "metadata": {},
   "outputs": [],
   "source": []
  }
 ],
 "metadata": {
  "kernelspec": {
   "display_name": "ML",
   "language": "python",
   "name": "python3"
  },
  "language_info": {
   "codemirror_mode": {
    "name": "ipython",
    "version": 3
   },
   "file_extension": ".py",
   "mimetype": "text/x-python",
   "name": "python",
   "nbconvert_exporter": "python",
   "pygments_lexer": "ipython3",
   "version": "3.9.16"
  },
  "orig_nbformat": 4,
  "vscode": {
   "interpreter": {
    "hash": "19d29624fa02f72a2f2eb64b5fa4dfbc751609e2b6c88be691c0db207c64cc14"
   }
  }
 },
 "nbformat": 4,
 "nbformat_minor": 2
}
