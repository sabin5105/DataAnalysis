{
 "cells": [
  {
   "cell_type": "code",
   "execution_count": 1,
   "metadata": {},
   "outputs": [],
   "source": [
    "import os\n",
    "import random\n",
    "import shutil\n",
    "\n",
    "def move_random_files(src_folder, dest_folder, proportion):\n",
    "    file_list = os.listdir(src_folder)\n",
    "    num_files_to_move = int(len(file_list) * proportion)\n",
    "\n",
    "    # Randomly select files to move\n",
    "    files_to_move = random.sample(file_list, num_files_to_move)\n",
    "\n",
    "    # Move selected files to the destination folder\n",
    "    for file_name in files_to_move:\n",
    "        src_path = os.path.join(src_folder, file_name)\n",
    "        dest_path = os.path.join(dest_folder, file_name)\n",
    "        shutil.move(src_path, dest_path)\n",
    "\n",
    "def main():\n",
    "    test_images_folder = \"./test/images\"\n",
    "    test_labels_folder = \"./test/labels\"\n",
    "    valid_images_folder = \"./valid/images\"\n",
    "    valid_labels_folder = \"./valid/labels\"\n",
    "    proportion_valid = 0.5\n",
    "\n",
    "    # Create destination folders if they don't exist\n",
    "    os.makedirs(valid_images_folder, exist_ok=True)\n",
    "    os.makedirs(valid_labels_folder, exist_ok=True)\n",
    "\n",
    "    # Move files from test to valid folders\n",
    "    move_random_files(test_images_folder, valid_images_folder, proportion_valid)\n",
    "    move_random_files(test_labels_folder, valid_labels_folder, proportion_valid)\n",
    "\n",
    "    # Get the list of files that remain in the test folders\n",
    "    remaining_images = [f for f in os.listdir(test_images_folder) if f in os.listdir(valid_images_folder)]\n",
    "    remaining_labels = [f for f in os.listdir(test_labels_folder) if f in os.listdir(valid_labels_folder)]\n",
    "\n",
    "    # Remove the remaining files from the test folders\n",
    "    for file_name in remaining_images:\n",
    "        file_path = os.path.join(test_images_folder, file_name)\n",
    "        os.remove(file_path)\n",
    "\n",
    "    for file_name in remaining_labels:\n",
    "        file_path = os.path.join(test_labels_folder, file_name)\n",
    "        os.remove(file_path)\n",
    "\n",
    "if __name__ == \"__main__\":\n",
    "    main()\n"
   ]
  },
  {
   "cell_type": "code",
   "execution_count": null,
   "metadata": {},
   "outputs": [],
   "source": []
  }
 ],
 "metadata": {
  "kernelspec": {
   "display_name": "sabin",
   "language": "python",
   "name": "python3"
  },
  "language_info": {
   "codemirror_mode": {
    "name": "ipython",
    "version": 3
   },
   "file_extension": ".py",
   "mimetype": "text/x-python",
   "name": "python",
   "nbconvert_exporter": "python",
   "pygments_lexer": "ipython3",
   "version": "3.9.17"
  },
  "orig_nbformat": 4
 },
 "nbformat": 4,
 "nbformat_minor": 2
}
